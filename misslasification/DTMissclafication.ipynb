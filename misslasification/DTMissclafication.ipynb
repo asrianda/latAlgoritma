{
  "nbformat": 4,
  "nbformat_minor": 0,
  "metadata": {
    "colab": {
      "provenance": [],
      "authorship_tag": "ABX9TyPiigXRsl2aS16UBw46CWLd",
      "include_colab_link": true
    },
    "kernelspec": {
      "name": "python3",
      "display_name": "Python 3"
    },
    "language_info": {
      "name": "python"
    }
  },
  "cells": [
    {
      "cell_type": "markdown",
      "metadata": {
        "id": "view-in-github",
        "colab_type": "text"
      },
      "source": [
        "<a href=\"https://colab.research.google.com/github/asrianda/latAlgoritma/blob/main/misslasification/DTMissclafication.ipynb\" target=\"_parent\"><img src=\"https://colab.research.google.com/assets/colab-badge.svg\" alt=\"Open In Colab\"/></a>"
      ]
    },
    {
      "cell_type": "code",
      "execution_count": 1,
      "metadata": {
        "id": "5BeDrgdgUCL0",
        "colab": {
          "base_uri": "https://localhost:8080/",
          "height": 318
        },
        "outputId": "daf0b368-53e0-4268-eb90-edb232952d4f"
      },
      "outputs": [
        {
          "output_type": "execute_result",
          "data": {
            "text/plain": [
              "       body temperature  \\tskin cover  \\tgives birth  \\taquatic creature  \\\n",
              "count         15.000000     15.000000      15.000000           15.000000   \n",
              "mean           0.533333      1.666667       0.600000            1.000000   \n",
              "std            0.516398      1.496026       0.507093            0.755929   \n",
              "min            0.000000      0.000000       0.000000            0.000000   \n",
              "25%            0.000000      1.000000       0.000000            0.500000   \n",
              "50%            1.000000      1.000000       1.000000            1.000000   \n",
              "75%            1.000000      2.500000       1.000000            1.500000   \n",
              "max            1.000000      5.000000       1.000000            2.000000   \n",
              "\n",
              "       \\taerial creature  \\thas legs  \\thibernates  \\tclass label  \n",
              "count          15.000000   15.000000     15.000000      15.000000  \n",
              "mean            0.866667    0.266667      0.666667       1.533333  \n",
              "std             0.351866    0.457738      0.487950       1.457330  \n",
              "min             0.000000    0.000000      0.000000       0.000000  \n",
              "25%             1.000000    0.000000      0.000000       0.000000  \n",
              "50%             1.000000    0.000000      1.000000       1.000000  \n",
              "75%             1.000000    0.500000      1.000000       2.500000  \n",
              "max             1.000000    1.000000      1.000000       4.000000  "
            ],
            "text/html": [
              "\n",
              "  <div id=\"df-308c5f82-a3f4-4346-bb73-4e050455f80f\" class=\"colab-df-container\">\n",
              "    <div>\n",
              "<style scoped>\n",
              "    .dataframe tbody tr th:only-of-type {\n",
              "        vertical-align: middle;\n",
              "    }\n",
              "\n",
              "    .dataframe tbody tr th {\n",
              "        vertical-align: top;\n",
              "    }\n",
              "\n",
              "    .dataframe thead th {\n",
              "        text-align: right;\n",
              "    }\n",
              "</style>\n",
              "<table border=\"1\" class=\"dataframe\">\n",
              "  <thead>\n",
              "    <tr style=\"text-align: right;\">\n",
              "      <th></th>\n",
              "      <th>body temperature</th>\n",
              "      <th>\\tskin cover</th>\n",
              "      <th>\\tgives birth</th>\n",
              "      <th>\\taquatic creature</th>\n",
              "      <th>\\taerial creature</th>\n",
              "      <th>\\thas legs</th>\n",
              "      <th>\\thibernates</th>\n",
              "      <th>\\tclass label</th>\n",
              "    </tr>\n",
              "  </thead>\n",
              "  <tbody>\n",
              "    <tr>\n",
              "      <th>count</th>\n",
              "      <td>15.000000</td>\n",
              "      <td>15.000000</td>\n",
              "      <td>15.000000</td>\n",
              "      <td>15.000000</td>\n",
              "      <td>15.000000</td>\n",
              "      <td>15.000000</td>\n",
              "      <td>15.000000</td>\n",
              "      <td>15.000000</td>\n",
              "    </tr>\n",
              "    <tr>\n",
              "      <th>mean</th>\n",
              "      <td>0.533333</td>\n",
              "      <td>1.666667</td>\n",
              "      <td>0.600000</td>\n",
              "      <td>1.000000</td>\n",
              "      <td>0.866667</td>\n",
              "      <td>0.266667</td>\n",
              "      <td>0.666667</td>\n",
              "      <td>1.533333</td>\n",
              "    </tr>\n",
              "    <tr>\n",
              "      <th>std</th>\n",
              "      <td>0.516398</td>\n",
              "      <td>1.496026</td>\n",
              "      <td>0.507093</td>\n",
              "      <td>0.755929</td>\n",
              "      <td>0.351866</td>\n",
              "      <td>0.457738</td>\n",
              "      <td>0.487950</td>\n",
              "      <td>1.457330</td>\n",
              "    </tr>\n",
              "    <tr>\n",
              "      <th>min</th>\n",
              "      <td>0.000000</td>\n",
              "      <td>0.000000</td>\n",
              "      <td>0.000000</td>\n",
              "      <td>0.000000</td>\n",
              "      <td>0.000000</td>\n",
              "      <td>0.000000</td>\n",
              "      <td>0.000000</td>\n",
              "      <td>0.000000</td>\n",
              "    </tr>\n",
              "    <tr>\n",
              "      <th>25%</th>\n",
              "      <td>0.000000</td>\n",
              "      <td>1.000000</td>\n",
              "      <td>0.000000</td>\n",
              "      <td>0.500000</td>\n",
              "      <td>1.000000</td>\n",
              "      <td>0.000000</td>\n",
              "      <td>0.000000</td>\n",
              "      <td>0.000000</td>\n",
              "    </tr>\n",
              "    <tr>\n",
              "      <th>50%</th>\n",
              "      <td>1.000000</td>\n",
              "      <td>1.000000</td>\n",
              "      <td>1.000000</td>\n",
              "      <td>1.000000</td>\n",
              "      <td>1.000000</td>\n",
              "      <td>0.000000</td>\n",
              "      <td>1.000000</td>\n",
              "      <td>1.000000</td>\n",
              "    </tr>\n",
              "    <tr>\n",
              "      <th>75%</th>\n",
              "      <td>1.000000</td>\n",
              "      <td>2.500000</td>\n",
              "      <td>1.000000</td>\n",
              "      <td>1.500000</td>\n",
              "      <td>1.000000</td>\n",
              "      <td>0.500000</td>\n",
              "      <td>1.000000</td>\n",
              "      <td>2.500000</td>\n",
              "    </tr>\n",
              "    <tr>\n",
              "      <th>max</th>\n",
              "      <td>1.000000</td>\n",
              "      <td>5.000000</td>\n",
              "      <td>1.000000</td>\n",
              "      <td>2.000000</td>\n",
              "      <td>1.000000</td>\n",
              "      <td>1.000000</td>\n",
              "      <td>1.000000</td>\n",
              "      <td>4.000000</td>\n",
              "    </tr>\n",
              "  </tbody>\n",
              "</table>\n",
              "</div>\n",
              "    <div class=\"colab-df-buttons\">\n",
              "\n",
              "  <div class=\"colab-df-container\">\n",
              "    <button class=\"colab-df-convert\" onclick=\"convertToInteractive('df-308c5f82-a3f4-4346-bb73-4e050455f80f')\"\n",
              "            title=\"Convert this dataframe to an interactive table.\"\n",
              "            style=\"display:none;\">\n",
              "\n",
              "  <svg xmlns=\"http://www.w3.org/2000/svg\" height=\"24px\" viewBox=\"0 -960 960 960\">\n",
              "    <path d=\"M120-120v-720h720v720H120Zm60-500h600v-160H180v160Zm220 220h160v-160H400v160Zm0 220h160v-160H400v160ZM180-400h160v-160H180v160Zm440 0h160v-160H620v160ZM180-180h160v-160H180v160Zm440 0h160v-160H620v160Z\"/>\n",
              "  </svg>\n",
              "    </button>\n",
              "\n",
              "  <style>\n",
              "    .colab-df-container {\n",
              "      display:flex;\n",
              "      gap: 12px;\n",
              "    }\n",
              "\n",
              "    .colab-df-convert {\n",
              "      background-color: #E8F0FE;\n",
              "      border: none;\n",
              "      border-radius: 50%;\n",
              "      cursor: pointer;\n",
              "      display: none;\n",
              "      fill: #1967D2;\n",
              "      height: 32px;\n",
              "      padding: 0 0 0 0;\n",
              "      width: 32px;\n",
              "    }\n",
              "\n",
              "    .colab-df-convert:hover {\n",
              "      background-color: #E2EBFA;\n",
              "      box-shadow: 0px 1px 2px rgba(60, 64, 67, 0.3), 0px 1px 3px 1px rgba(60, 64, 67, 0.15);\n",
              "      fill: #174EA6;\n",
              "    }\n",
              "\n",
              "    .colab-df-buttons div {\n",
              "      margin-bottom: 4px;\n",
              "    }\n",
              "\n",
              "    [theme=dark] .colab-df-convert {\n",
              "      background-color: #3B4455;\n",
              "      fill: #D2E3FC;\n",
              "    }\n",
              "\n",
              "    [theme=dark] .colab-df-convert:hover {\n",
              "      background-color: #434B5C;\n",
              "      box-shadow: 0px 1px 3px 1px rgba(0, 0, 0, 0.15);\n",
              "      filter: drop-shadow(0px 1px 2px rgba(0, 0, 0, 0.3));\n",
              "      fill: #FFFFFF;\n",
              "    }\n",
              "  </style>\n",
              "\n",
              "    <script>\n",
              "      const buttonEl =\n",
              "        document.querySelector('#df-308c5f82-a3f4-4346-bb73-4e050455f80f button.colab-df-convert');\n",
              "      buttonEl.style.display =\n",
              "        google.colab.kernel.accessAllowed ? 'block' : 'none';\n",
              "\n",
              "      async function convertToInteractive(key) {\n",
              "        const element = document.querySelector('#df-308c5f82-a3f4-4346-bb73-4e050455f80f');\n",
              "        const dataTable =\n",
              "          await google.colab.kernel.invokeFunction('convertToInteractive',\n",
              "                                                    [key], {});\n",
              "        if (!dataTable) return;\n",
              "\n",
              "        const docLinkHtml = 'Like what you see? Visit the ' +\n",
              "          '<a target=\"_blank\" href=https://colab.research.google.com/notebooks/data_table.ipynb>data table notebook</a>'\n",
              "          + ' to learn more about interactive tables.';\n",
              "        element.innerHTML = '';\n",
              "        dataTable['output_type'] = 'display_data';\n",
              "        await google.colab.output.renderOutput(dataTable, element);\n",
              "        const docLink = document.createElement('div');\n",
              "        docLink.innerHTML = docLinkHtml;\n",
              "        element.appendChild(docLink);\n",
              "      }\n",
              "    </script>\n",
              "  </div>\n",
              "\n",
              "\n",
              "<div id=\"df-98e929cc-1bb1-4f82-86e1-4bc101b2c7be\">\n",
              "  <button class=\"colab-df-quickchart\" onclick=\"quickchart('df-98e929cc-1bb1-4f82-86e1-4bc101b2c7be')\"\n",
              "            title=\"Suggest charts\"\n",
              "            style=\"display:none;\">\n",
              "\n",
              "<svg xmlns=\"http://www.w3.org/2000/svg\" height=\"24px\"viewBox=\"0 0 24 24\"\n",
              "     width=\"24px\">\n",
              "    <g>\n",
              "        <path d=\"M19 3H5c-1.1 0-2 .9-2 2v14c0 1.1.9 2 2 2h14c1.1 0 2-.9 2-2V5c0-1.1-.9-2-2-2zM9 17H7v-7h2v7zm4 0h-2V7h2v10zm4 0h-2v-4h2v4z\"/>\n",
              "    </g>\n",
              "</svg>\n",
              "  </button>\n",
              "\n",
              "<style>\n",
              "  .colab-df-quickchart {\n",
              "      --bg-color: #E8F0FE;\n",
              "      --fill-color: #1967D2;\n",
              "      --hover-bg-color: #E2EBFA;\n",
              "      --hover-fill-color: #174EA6;\n",
              "      --disabled-fill-color: #AAA;\n",
              "      --disabled-bg-color: #DDD;\n",
              "  }\n",
              "\n",
              "  [theme=dark] .colab-df-quickchart {\n",
              "      --bg-color: #3B4455;\n",
              "      --fill-color: #D2E3FC;\n",
              "      --hover-bg-color: #434B5C;\n",
              "      --hover-fill-color: #FFFFFF;\n",
              "      --disabled-bg-color: #3B4455;\n",
              "      --disabled-fill-color: #666;\n",
              "  }\n",
              "\n",
              "  .colab-df-quickchart {\n",
              "    background-color: var(--bg-color);\n",
              "    border: none;\n",
              "    border-radius: 50%;\n",
              "    cursor: pointer;\n",
              "    display: none;\n",
              "    fill: var(--fill-color);\n",
              "    height: 32px;\n",
              "    padding: 0;\n",
              "    width: 32px;\n",
              "  }\n",
              "\n",
              "  .colab-df-quickchart:hover {\n",
              "    background-color: var(--hover-bg-color);\n",
              "    box-shadow: 0 1px 2px rgba(60, 64, 67, 0.3), 0 1px 3px 1px rgba(60, 64, 67, 0.15);\n",
              "    fill: var(--button-hover-fill-color);\n",
              "  }\n",
              "\n",
              "  .colab-df-quickchart-complete:disabled,\n",
              "  .colab-df-quickchart-complete:disabled:hover {\n",
              "    background-color: var(--disabled-bg-color);\n",
              "    fill: var(--disabled-fill-color);\n",
              "    box-shadow: none;\n",
              "  }\n",
              "\n",
              "  .colab-df-spinner {\n",
              "    border: 2px solid var(--fill-color);\n",
              "    border-color: transparent;\n",
              "    border-bottom-color: var(--fill-color);\n",
              "    animation:\n",
              "      spin 1s steps(1) infinite;\n",
              "  }\n",
              "\n",
              "  @keyframes spin {\n",
              "    0% {\n",
              "      border-color: transparent;\n",
              "      border-bottom-color: var(--fill-color);\n",
              "      border-left-color: var(--fill-color);\n",
              "    }\n",
              "    20% {\n",
              "      border-color: transparent;\n",
              "      border-left-color: var(--fill-color);\n",
              "      border-top-color: var(--fill-color);\n",
              "    }\n",
              "    30% {\n",
              "      border-color: transparent;\n",
              "      border-left-color: var(--fill-color);\n",
              "      border-top-color: var(--fill-color);\n",
              "      border-right-color: var(--fill-color);\n",
              "    }\n",
              "    40% {\n",
              "      border-color: transparent;\n",
              "      border-right-color: var(--fill-color);\n",
              "      border-top-color: var(--fill-color);\n",
              "    }\n",
              "    60% {\n",
              "      border-color: transparent;\n",
              "      border-right-color: var(--fill-color);\n",
              "    }\n",
              "    80% {\n",
              "      border-color: transparent;\n",
              "      border-right-color: var(--fill-color);\n",
              "      border-bottom-color: var(--fill-color);\n",
              "    }\n",
              "    90% {\n",
              "      border-color: transparent;\n",
              "      border-bottom-color: var(--fill-color);\n",
              "    }\n",
              "  }\n",
              "</style>\n",
              "\n",
              "  <script>\n",
              "    async function quickchart(key) {\n",
              "      const quickchartButtonEl =\n",
              "        document.querySelector('#' + key + ' button');\n",
              "      quickchartButtonEl.disabled = true;  // To prevent multiple clicks.\n",
              "      quickchartButtonEl.classList.add('colab-df-spinner');\n",
              "      try {\n",
              "        const charts = await google.colab.kernel.invokeFunction(\n",
              "            'suggestCharts', [key], {});\n",
              "      } catch (error) {\n",
              "        console.error('Error during call to suggestCharts:', error);\n",
              "      }\n",
              "      quickchartButtonEl.classList.remove('colab-df-spinner');\n",
              "      quickchartButtonEl.classList.add('colab-df-quickchart-complete');\n",
              "    }\n",
              "    (() => {\n",
              "      let quickchartButtonEl =\n",
              "        document.querySelector('#df-98e929cc-1bb1-4f82-86e1-4bc101b2c7be button');\n",
              "      quickchartButtonEl.style.display =\n",
              "        google.colab.kernel.accessAllowed ? 'block' : 'none';\n",
              "    })();\n",
              "  </script>\n",
              "</div>\n",
              "    </div>\n",
              "  </div>\n"
            ],
            "application/vnd.google.colaboratory.intrinsic+json": {
              "type": "dataframe",
              "summary": "{\n  \"name\": \"csv_dataset\",\n  \"rows\": 8,\n  \"fields\": [\n    {\n      \"column\": \"body temperature\",\n      \"properties\": {\n        \"dtype\": \"number\",\n        \"std\": 5.115656349136608,\n        \"min\": 0.0,\n        \"max\": 15.0,\n        \"num_unique_values\": 5,\n        \"samples\": [\n          0.5333333333333333,\n          1.0,\n          0.5163977794943222\n        ],\n        \"semantic_type\": \"\",\n        \"description\": \"\"\n      }\n    },\n    {\n      \"column\": \"\\tskin cover\",\n      \"properties\": {\n        \"dtype\": \"number\",\n        \"std\": 4.893330723381133,\n        \"min\": 0.0,\n        \"max\": 15.0,\n        \"num_unique_values\": 7,\n        \"samples\": [\n          15.0,\n          1.6666666666666667,\n          2.5\n        ],\n        \"semantic_type\": \"\",\n        \"description\": \"\"\n      }\n    },\n    {\n      \"column\": \"\\tgives birth\",\n      \"properties\": {\n        \"dtype\": \"number\",\n        \"std\": 5.112757428088339,\n        \"min\": 0.0,\n        \"max\": 15.0,\n        \"num_unique_values\": 5,\n        \"samples\": [\n          0.6,\n          1.0,\n          0.50709255283711\n        ],\n        \"semantic_type\": \"\",\n        \"description\": \"\"\n      }\n    },\n    {\n      \"column\": \"\\taquatic creature\",\n      \"properties\": {\n        \"dtype\": \"number\",\n        \"std\": 4.998662292959746,\n        \"min\": 0.0,\n        \"max\": 15.0,\n        \"num_unique_values\": 7,\n        \"samples\": [\n          15.0,\n          1.0,\n          1.5\n        ],\n        \"semantic_type\": \"\",\n        \"description\": \"\"\n      }\n    },\n    {\n      \"column\": \"\\taerial creature\",\n      \"properties\": {\n        \"dtype\": \"number\",\n        \"std\": 5.05365905446867,\n        \"min\": 0.0,\n        \"max\": 15.0,\n        \"num_unique_values\": 5,\n        \"samples\": [\n          0.8666666666666667,\n          1.0,\n          0.35186577527449836\n        ],\n        \"semantic_type\": \"\",\n        \"description\": \"\"\n      }\n    },\n    {\n      \"column\": \"\\thas legs\",\n      \"properties\": {\n        \"dtype\": \"number\",\n        \"std\": 5.202274525380299,\n        \"min\": 0.0,\n        \"max\": 15.0,\n        \"num_unique_values\": 6,\n        \"samples\": [\n          15.0,\n          0.26666666666666666,\n          1.0\n        ],\n        \"semantic_type\": \"\",\n        \"description\": \"\"\n      }\n    },\n    {\n      \"column\": \"\\thibernates\",\n      \"properties\": {\n        \"dtype\": \"number\",\n        \"std\": 5.110495112329542,\n        \"min\": 0.0,\n        \"max\": 15.0,\n        \"num_unique_values\": 5,\n        \"samples\": [\n          0.6666666666666666,\n          1.0,\n          0.4879500364742666\n        ],\n        \"semantic_type\": \"\",\n        \"description\": \"\"\n      }\n    },\n    {\n      \"column\": \"\\tclass label\",\n      \"properties\": {\n        \"dtype\": \"number\",\n        \"std\": 4.9497934101634815,\n        \"min\": 0.0,\n        \"max\": 15.0,\n        \"num_unique_values\": 7,\n        \"samples\": [\n          15.0,\n          1.5333333333333334,\n          2.5\n        ],\n        \"semantic_type\": \"\",\n        \"description\": \"\"\n      }\n    }\n  ]\n}"
            }
          },
          "metadata": {},
          "execution_count": 1
        }
      ],
      "source": [
        "import queue\n",
        "import numpy as np\n",
        "import pandas as pd\n",
        "import matplotlib.pyplot as plt\n",
        "from sklearn.model_selection import train_test_split\n",
        "\n",
        "csv_dataset = pd.read_csv(\"species_classification.csv\")\n",
        "csv_dataset.describe()"
      ]
    },
    {
      "cell_type": "markdown",
      "source": [
        "### Keterangan Dataset\n",
        "\n",
        "1.   body temperature\n",
        "2.   kin cover;\n",
        "3.   gives birth;\n",
        "4.   aquatic creature;\n",
        "5. aerial creature;\n",
        "6. Thas legs;\n",
        "7. hibernates.\n",
        "\n",
        "`Class yang dimiliki\n",
        "*   reptile;\n",
        "*   fish;\n",
        "*   amphibian;\n",
        "*   bird."
      ],
      "metadata": {
        "id": "eZOuqPwOWMYO"
      }
    },
    {
      "cell_type": "code",
      "source": [
        "csv_dataset.plot.hist(alpha=0.25)\n",
        "plt.show()"
      ],
      "metadata": {
        "colab": {
          "base_uri": "https://localhost:8080/",
          "height": 486
        },
        "id": "9aOtNZk7WFjw",
        "outputId": "0fd90888-9879-48e8-83b1-92b747f4a5d4"
      },
      "execution_count": 2,
      "outputs": [
        {
          "output_type": "stream",
          "name": "stderr",
          "text": [
            "/usr/local/lib/python3.10/dist-packages/IPython/core/pylabtools.py:151: UserWarning: Glyph 9 (\t) missing from current font.\n",
            "  fig.canvas.print_figure(bytes_io, **kw)\n"
          ]
        },
        {
          "output_type": "display_data",
          "data": {
            "text/plain": [
              "<Figure size 640x480 with 1 Axes>"
            ],
            "image/png": "[encoded data removed]"
          },
          "metadata": {}
        }
      ]
    },
    {
      "cell_type": "markdown",
      "source": [
        "## Implementasi Misclassification Tree"
      ],
      "metadata": {
        "id": "w_RFQ0RWXbU2"
      }
    },
    {
      "cell_type": "code",
      "source": [
        "class MisslaficationTreeNode:\n",
        "  parent: None\n",
        "  branch=None\n",
        "  attr_index= None\n",
        "  permitted_atributes= None\n",
        "  permitted_entries= None\n",
        "  children= None\n",
        "  classes_dist_dict= None\n",
        "  class_label= None\n",
        "\n",
        "  def __init__(self, parent= None,\n",
        "               attr_index= None,\n",
        "               children= None,\n",
        "               permitted_atributes= None,\n",
        "               permitted_entries= None,\n",
        "               classes_dist_dict= None,\n",
        "               branch= None,\n",
        "               class_type= None):\n",
        "    self.class_label=class_type\n",
        "    self.parent=parent\n",
        "    self.attr_index=attr_index\n",
        "    self.children=children\n",
        "    self.permitted_atributes=permitted_atributes\n",
        "    self.permitted_entries=permitted_entries\n",
        "    self.classes_dist_dict=classes_dist_dict\n",
        "    self.branch=branch\n"
      ],
      "metadata": {
        "id": "yRrAvoaVWIau"
      },
      "execution_count": 3,
      "outputs": []
    },
    {
      "cell_type": "markdown",
      "source": [
        "### Keterangan tentang Class\n",
        "\n",
        "\n",
        "1.   parent = sebagai simpul induk\n",
        "2.   branch = simpul cabang\n",
        "3.   attr_index = untuk penyimpanan atribut index, jika itu class, menyimpan index baris class di db\n",
        "4.   permitted_atributes = menyimpan list ke atributes_index yang dapat membuat attribut children\n",
        "5. permitted_entries = menyimpan list dengan entries index, dapat digunakan membuat children\n",
        "6. children = menyimpan list dengan node children\n",
        "7. class_dist_dict = menyimpan list dengan mendistribusikan atribut node\n",
        "8. class_type = untuk menampung dominan type_class jika berupa daun (node akhir)\n",
        "\n",
        "\n",
        "\n"
      ],
      "metadata": {
        "id": "w6sup-Z5avvE"
      }
    },
    {
      "cell_type": "code",
      "source": [
        "def attr_distribution(x,y, distict_classes, attr_index, permitted_entries_indexes):\n",
        "  branches_class_distribution={}\n",
        "  branches= []\n",
        "  for entry in permitted_entries_indexes:\n",
        "    if x[entry][attr_index] not in branches:\n",
        "      branches.append(x[entry][attr_index])\n",
        "  for branch in branches:\n",
        "    class_distribution_over_a_branch= {}\n",
        "    for i in distict_classes:\n",
        "      class_distribution_over_a_branch.update({i:0})\n",
        "    total_of_single_branch=0\n",
        "    for permitted_entry_index in permitted_entries_indexes:\n",
        "      if branch== x[permitted_entry_index][attr_index]:\n",
        "        total_of_single_branch +=1\n",
        "        class_distribution_over_a_branch[y[permitted_entry_index]] = \\\n",
        "          class_distribution_over_a_branch[(y[permitted_entry_index])] + 1\n",
        "    branches_class_distribution.update({branch: class_distribution_over_a_branch})\n",
        "  return branches_class_distribution"
      ],
      "metadata": {
        "id": "2vEqPM7Bame8"
      },
      "execution_count": 4,
      "outputs": []
    },
    {
      "cell_type": "markdown",
      "source": [
        "### Mengembalikan nilai split dan list dengan attribute_distribution"
      ],
      "metadata": {
        "id": "7eQiVCLekM97"
      }
    },
    {
      "cell_type": "code",
      "source": [
        "def split_attr(x,y, distinc_classes, attr_index, permitted_entries_indexes):\n",
        "  attr_dist= attr_distribution(x, y, distinc_classes, attr_index, permitted_entries_indexes)\n",
        "  attr_split=0\n",
        "  for dictionary in attr_dist.values():\n",
        "    attr_split += (1- (max(dictionary.values())/ sum(dictionary.values()))) *(\n",
        "            sum(dictionary.values()) / len(permitted_entries_indexes))\n",
        "  return attr_split, attr_dist\n"
      ],
      "metadata": {
        "id": "aR5ojt2mkJPe"
      },
      "execution_count": 5,
      "outputs": []
    },
    {
      "cell_type": "markdown",
      "source": [
        "Method **active_node** memecahkan permasalahan:\n",
        "\n",
        "\n",
        "1.   permitted_entries_list = membuat list permitted_entries\n",
        "2.   permitted_atribute_list = membuat list permitted_atribute_list\n",
        "3. node_atribute = untuk mensplit permitted_atribute memilih salah sata yang memiliki split_index minimum\n",
        "\n"
      ],
      "metadata": {
        "id": "We0pgpyUn66T"
      }
    },
    {
      "cell_type": "code",
      "source": [
        "\n",
        "def activate_node(x,y, distinct_classes, class_column, node):\n",
        "  entries= []\n",
        "  atributes= []\n",
        "  if node.parent is not None:\n",
        "    for entry in node.parent.permitted_entries:\n",
        "      if x[entry][node.parent.attr_index] == node.branch:\n",
        "        entries.append(entry)\n",
        "    for attr in node.parent.permitted_atributes:\n",
        "      atributes.append(attr)\n",
        "  else:\n",
        "    for i in range(0, len(x)):\n",
        "      entries.append(i)\n",
        "    for i in range(0, len(x[0])):\n",
        "      atributes.append(i)\n",
        "  node.permitted_entries= entries\n",
        "  attributes_split_index_dictionary= {}\n",
        "  atributes_dist_dict = {}\n",
        "  for atribute in atributes:\n",
        "    split_index, attr_dist =split_attr(x,y, distinct_classes, atribute, entries)\n",
        "    attributes_split_index_dictionary.update({atribute: split_index})\n",
        "    atributes_dist_dict.update({atribute: attr_dist})\n",
        "  attr_index=min(attributes_split_index_dictionary, key= attributes_split_index_dictionary.get)\n",
        "  atributes.remove(attr_index)\n",
        "  children= []\n",
        "  node.attr_index = attr_index\n",
        "  node.permitted_atributes = atributes\n",
        "  node.classes_dist_dict = atributes_dist_dict.get(attr_index)\n",
        "  for key, value in atributes_dist_dict.get(attr_index).items():\n",
        "    child=MisslaficationTreeNode(parent=node,branch=key)\n",
        "    child.classes_dist_dict=value\n",
        "    if sum(value.values())==max(value) or len(atributes)==0:\n",
        "      child.attr_index=class_column\n",
        "      for key_1, value_1 in value.items():\n",
        "        if value_1==max(value.values()):\n",
        "          child.class_type=key\n",
        "    children.append(child)\n",
        "  node.children=children\n"
      ],
      "metadata": {
        "id": "66lIc_vUnaiP"
      },
      "execution_count": 7,
      "outputs": []
    },
    {
      "cell_type": "markdown",
      "source": [
        "Pertama sekali:\n",
        "1.   Memanggil dataset dengan cara Random\n",
        "2.   Membagi data latih dan data uji"
      ],
      "metadata": {
        "id": "QqndbDdjO-dZ"
      }
    },
    {
      "cell_type": "code",
      "source": [
        "class_column=7\n",
        "db=csv_dataset.iloc[:,:].values.astype(np.int_)\n",
        "np.random.shuffle(db)\n",
        "y=db[:, class_column]\n",
        "distinct_classes=np.unique(y)\n",
        "x=np.delete(db, [class_column], axis=1)\n",
        "x_train, x_test, y_train, y_test= train_test_split(x,y, test_size=0.1)\n",
        "print(y_train)\n",
        "print(y_test)"
      ],
      "metadata": {
        "colab": {
          "base_uri": "https://localhost:8080/"
        },
        "id": "EaHHdxj-PZvp",
        "outputId": "93e4b58b-8d6e-4a9c-da16-721b04a5ba05"
      },
      "execution_count": 23,
      "outputs": [
        {
          "output_type": "stream",
          "name": "stdout",
          "text": [
            "[4 1 4 0 0 0 2 1 2 3 3 0 2]\n",
            "[0 1]\n"
          ]
        }
      ]
    },
    {
      "cell_type": "markdown",
      "source": [
        "Root merupakan node pertama sekali yang diaktifkan. Kita menentukan atribut yang dapat dijalankan. berguna untuk menentukan node Root atribut. Untuk node Root semua entri data dan atribut dapat dibuat. Setelah, Root node dibuat, setalh itu menggunakan atrian entri data sebagai sisa pohon"
      ],
      "metadata": {
        "id": "bXwC1X8DSgiv"
      }
    },
    {
      "cell_type": "code",
      "source": [
        "root=MisslaficationTreeNode(parent=None)\n",
        "nodes_to_activate=queue.Queue()\n",
        "nodes_to_activate.put(root)\n",
        "while not nodes_to_activate.empty():\n",
        "  candidate=nodes_to_activate.get()\n",
        "  activate_node(x_train, y_train, distinct_classes, class_column, candidate)\n",
        "  for node in candidate.children:\n",
        "    if node.attr_index is None:\n",
        "      nodes_to_activate.put(node)"
      ],
      "metadata": {
        "id": "cS6eLuavQ03r"
      },
      "execution_count": 27,
      "outputs": []
    },
    {
      "cell_type": "markdown",
      "source": [
        "Sekarang kita telah mempunyai pohonnya, sekarang kita lihat\n",
        "berapa banyak Node dan simpul daun yang dimilikinya, menggunakan algoritma BSF, kita akan menghitungnya"
      ],
      "metadata": {
        "id": "tTtkYcQEUnNC"
      }
    },
    {
      "cell_type": "code",
      "source": [
        "q=queue.Queue()\n",
        "q.put(root)\n",
        "count_nodes=1\n",
        "counts_leafs=0\n",
        "while not q.empty():\n",
        "  candidate=q.get()\n",
        "  count_nodes+=1\n",
        "  if candidate.attr_index is class_column:\n",
        "    counts_leafs+=1\n",
        "  if candidate.children is not None:\n",
        "    for node in candidate.children:\n",
        "      q.put(node)\n",
        "print(\"Pohon ini memiliki %s Node dan %s Daun.\" % (count_nodes, counts_leafs))"
      ],
      "metadata": {
        "colab": {
          "base_uri": "https://localhost:8080/"
        },
        "id": "KVkkE7OQUnqY",
        "outputId": "81f86856-1a98-451e-ecbc-ec8f2b511d31"
      },
      "execution_count": 32,
      "outputs": [
        {
          "output_type": "stream",
          "name": "stdout",
          "text": [
            "Pohon ini memiliki 70 Node dan 12 Daun.\n"
          ]
        }
      ]
    },
    {
      "cell_type": "markdown",
      "source": [
        "Berikut ini, menggunakan data uji untuk mengukur akurasi pohon. Proses pembuatannya tergantung saat dataset di random, Kita membuat penentuan entri data baru, kasusnya pohon tidak dapat memberikan jawaban pasti"
      ],
      "metadata": {
        "id": "3ANOIUyqXcwK"
      }
    },
    {
      "cell_type": "code",
      "source": [
        "def decide(root, class_column, candidate):\n",
        "  start=root\n",
        "  while class_column is not start.attr_index:\n",
        "    if start.attr_index==class_column:\n",
        "      return start.class_type\n",
        "    if candidate[start.attr_index]>= len(start.children):\n",
        "      return -1\n",
        "    else:\n",
        "      start=start.children[candidate[start.attr_index]]\n",
        "  return start.class_label"
      ],
      "metadata": {
        "id": "OekjNcZNXRZq"
      },
      "execution_count": 41,
      "outputs": []
    },
    {
      "cell_type": "code",
      "source": [
        "test_result=[]\n",
        "for entry in x_test:\n",
        "  test_result.append(decide(root,class_column, entry))\n",
        "print(test_result)"
      ],
      "metadata": {
        "colab": {
          "base_uri": "https://localhost:8080/"
        },
        "id": "Nl2iHotEZGJk",
        "outputId": "d8bc347b-ceba-4113-9647-a1a7ccb3b8db"
      },
      "execution_count": 43,
      "outputs": [
        {
          "output_type": "stream",
          "name": "stdout",
          "text": [
            "[-1, -1]\n"
          ]
        }
      ]
    }
  ]
}