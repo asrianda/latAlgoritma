{
  "nbformat": 4,
  "nbformat_minor": 0,
  "metadata": {
    "colab": {
      "provenance": [],
      "authorship_tag": "ABX9TyP92WoBH8rwx+ydC7pUHaaa",
      "include_colab_link": true
    },
    "kernelspec": {
      "name": "python3",
      "display_name": "Python 3"
    },
    "language_info": {
      "name": "python"
    }
  },
  "cells": [
    {
      "cell_type": "markdown",
      "metadata": {
        "id": "view-in-github",
        "colab_type": "text"
      },
      "source": [
        "<a href=\"https://colab.research.google.com/github/asrianda/latAlgoritma/blob/main/ALgoritma_OTP.ipynb\" target=\"_parent\"><img src=\"https://colab.research.google.com/assets/colab-badge.svg\" alt=\"Open In Colab\"/></a>"
      ]
    },
    {
      "cell_type": "code",
      "execution_count": 3,
      "metadata": {
        "colab": {
          "base_uri": "https://localhost:8080/"
        },
        "id": "ZxQrCTOnA9dv",
        "outputId": "d0556c8a-930a-4f64-9f45-054c533fd09b"
      },
      "outputs": [
        {
          "output_type": "stream",
          "name": "stdout",
          "text": [
            "/usr/bin/ffmpeg\n"
          ]
        }
      ],
      "source": [
        "#pip install pydub\n",
        "from pydub.utils import which\n",
        "print(which(\"ffmpeg\"))\n"
      ]
    },
    {
      "cell_type": "code",
      "source": [
        "from pydub import AudioSegment\n",
        "import os\n",
        "\n",
        "def generate_key(length):\n",
        "    \"\"\"\n",
        "    Generate a random key with the given length.\n",
        "    \"\"\"\n",
        "    return os.urandom(length)\n",
        "\n",
        "def encrypt_audio(input_file, output_file, key_file):\n",
        "    \"\"\"\n",
        "    Encrypt an MP3 audio file using One-Time Pad (OTP).\n",
        "    \"\"\"\n",
        "    try:\n",
        "        # Load the MP3 file and extract raw audio data\n",
        "        audio = AudioSegment.from_file(input_file, format=\"mp3\")\n",
        "        raw_data = audio.raw_data  # Get raw PCM data\n",
        "        sample_rate = audio.frame_rate\n",
        "        channels = audio.channels\n",
        "        sample_width = audio.sample_width\n",
        "\n",
        "        # Generate a random key\n",
        "        key = generate_key(len(raw_data))\n",
        "        encrypted_data = bytes([byte ^ key[i] for i, byte in enumerate(raw_data)])  # XOR encryption\n",
        "\n",
        "        # Save encrypted audio as raw PCM in MP3 format\n",
        "        encrypted_audio = AudioSegment(\n",
        "            data=encrypted_data,\n",
        "            sample_width=sample_width,\n",
        "            frame_rate=sample_rate,\n",
        "            channels=channels\n",
        "        )\n",
        "        encrypted_audio.export(output_file, format=\"mp3\")\n",
        "\n",
        "        # Save the key to a file\n",
        "        with open(key_file, 'wb') as key_out:\n",
        "            key_out.write(key)\n",
        "\n",
        "        print(f\"Encryption complete. Encrypted file: {output_file}, Key file: {key_file}\")\n",
        "\n",
        "    except Exception as e:\n",
        "        print(f\"Error during encryption: {e}\")\n",
        "\n",
        "def decrypt_audio(encrypted_file, key_file, output_file):\n",
        "    \"\"\"\n",
        "    Decrypt an MP3 audio file encrypted with One-Time Pad (OTP).\n",
        "    \"\"\"\n",
        "    try:\n",
        "        # Load the encrypted MP3 file and extract raw audio data\n",
        "        audio = AudioSegment.from_file(encrypted_file, format=\"mp3\")\n",
        "        raw_data = audio.raw_data\n",
        "        sample_rate = audio.frame_rate\n",
        "        channels = audio.channels\n",
        "        sample_width = audio.sample_width\n",
        "\n",
        "        # Read the key\n",
        "        with open(key_file, 'rb') as key_in:\n",
        "            key = key_in.read()\n",
        "\n",
        "        # Validate key length\n",
        "        if len(key) != len(raw_data):\n",
        "            raise ValueError(\"Key length does not match encrypted data length.\")\n",
        "\n",
        "        # XOR decryption\n",
        "        decrypted_data = bytes([byte ^ key[i] for i, byte in enumerate(raw_data)])\n",
        "\n",
        "        # Save decrypted audio as MP3\n",
        "        decrypted_audio = AudioSegment(\n",
        "            data=decrypted_data,\n",
        "            sample_width=sample_width,\n",
        "            frame_rate=sample_rate,\n",
        "            channels=channels\n",
        "        )\n",
        "        decrypted_audio.export(output_file, format=\"mp3\")\n",
        "\n",
        "        print(f\"Decryption complete. Decrypted file: {output_file}\")\n",
        "\n",
        "    except Exception as e:\n",
        "        print(f\"Error during decryption: {e}\")\n",
        "\n",
        "# Example usage\n",
        "input_audio = 'audio1.mp3'        # Input MP3 file\n",
        "encrypted_audio = 'encrypted.mp3'  # Encrypted MP3 file\n",
        "decrypted_audio = 'decrypted.mp3'  # Decrypted MP3 file\n",
        "key_file = 'key.bin'             # Key file\n",
        "\n",
        "# Encrypt the audio file\n",
        "encrypt_audio(input_audio, encrypted_audio, key_file)\n",
        "\n",
        "# Decrypt the audio file\n",
        "decrypt_audio(encrypted_audio, key_file, decrypted_audio)\n"
      ],
      "metadata": {
        "colab": {
          "base_uri": "https://localhost:8080/"
        },
        "id": "keglX--JBPpA",
        "outputId": "4ecc6c20-11d9-44ed-8117-2986bec6770f"
      },
      "execution_count": 6,
      "outputs": [
        {
          "output_type": "stream",
          "name": "stdout",
          "text": [
            "Encryption complete. Encrypted file: encrypted.mp3, Key file: key.bin\n",
            "Decryption complete. Decrypted file: decrypted.mp3\n"
          ]
        }
      ]
    }
  ]
}